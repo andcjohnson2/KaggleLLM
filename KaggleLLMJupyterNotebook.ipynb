{
 "cells": [
  {
   "cell_type": "code",
   "execution_count": 1,
   "id": "05520797",
   "metadata": {},
   "outputs": [],
   "source": [
    "#Load in competition data\n",
    "test = pd.read_csv('test.csv')\n",
    "train = pd.read_csv('train.csv')\n",
    "sample_submission = pd.read_csv('sample_submission.csv')"
   ]
  },
  {
   "cell_type": "code",
   "execution_count": 14,
   "id": "dc0fd06b",
   "metadata": {
    "scrolled": true
   },
   "outputs": [],
   "source": [
    "import torch\n",
    "from datasets import Dataset\n",
    "from dataclasses import dataclass\n",
    "import transformers"
   ]
  },
  {
   "cell_type": "code",
   "execution_count": 155,
   "id": "1ebcca61",
   "metadata": {},
   "outputs": [],
   "source": [
    "tokenizer = AutoTokenizer.from_pretrained(\"bert-base-uncased\")"
   ]
  },
  {
   "cell_type": "code",
   "execution_count": 156,
   "id": "5c375069",
   "metadata": {},
   "outputs": [],
   "source": [
    "# For this approach, following along the idea from this youtube video https://www.youtube.com/watch?v=J2dG-Sxv0EI, \n",
    "# I'm going to split the test data into question answer pairs with each row in a df corresponding to a Q/A pair"
   ]
  },
  {
   "cell_type": "code",
   "execution_count": 157,
   "id": "0a9fff99",
   "metadata": {},
   "outputs": [],
   "source": [
    "# This function will run through a dataframe with sample data row by row and output a new dataframe that has each\n",
    "# question listed next to a possible answer choice\n",
    "def create_qa_pairs(df):\n",
    "    qa_pairs = pd.DataFrame(columns = ['Question','Possible Answer'])\n",
    "    i=0\n",
    "    while i<(len(df)): #this will loop through each row in the df\n",
    "        j=2 #j will grab the jth column in the df\n",
    "        while j<7:\n",
    "            question = df.iloc[i,1] #grabs the question associated with the ith row of data\n",
    "            possible_answer = df.iloc[i,j] #grabs the jth answer choice in the ith column\n",
    "            new_row= [question,possible_answer]\n",
    "            qa_pairs.loc[len(qa_pairs)] = new_row\n",
    "            j+=1\n",
    "        i+=1\n",
    "         \n",
    "    return qa_pairs"
   ]
  },
  {
   "cell_type": "code",
   "execution_count": 158,
   "id": "ab5ed076",
   "metadata": {},
   "outputs": [],
   "source": [
    "# This is the same function as above but will return a dataframe with tokenized qa pairs\n",
    "def create_tokenized_qa_pairs(df):\n",
    "    tokenized_qa_pairs = pd.DataFrame(columns = ['Question','Possible Answer'])\n",
    "    i=0\n",
    "    while i<(len(df)): #this will loop through each row in the df\n",
    "        j=2 #j will grab the jth column in the df\n",
    "        while j<7:\n",
    "            print(i,j)\n",
    "            question = df.iloc[i,1] #grabs the question associated with the ith row of data\n",
    "            possible_answer = df.iloc[i,j] #grabs the jth answer choice in the ith column\n",
    "            new_row= [tokenizer(question),tokenizer(possible_answer)]\n",
    "            tokenized_qa_pairs.loc[len(qa_pairs)] = new_row\n",
    "            j+=1\n",
    "        i+=1\n",
    "         \n",
    "    return tokenized_qa_pairs"
   ]
  },
  {
   "cell_type": "code",
   "execution_count": 159,
   "id": "e1a6b8c1",
   "metadata": {},
   "outputs": [
    {
     "name": "stdout",
     "output_type": "stream",
     "text": [
      "0 2\n"
     ]
    },
    {
     "ename": "TypeError",
     "evalue": "'BertTokenizer' object is not callable",
     "output_type": "error",
     "traceback": [
      "\u001b[1;31m---------------------------------------------------------------------------\u001b[0m",
      "\u001b[1;31mTypeError\u001b[0m                                 Traceback (most recent call last)",
      "Cell \u001b[1;32mIn[159], line 2\u001b[0m\n\u001b[0;32m      1\u001b[0m test_qa_pairs \u001b[38;5;241m=\u001b[39m create_qa_pairs(test)\n\u001b[1;32m----> 2\u001b[0m tokenized_test_qa_pairs \u001b[38;5;241m=\u001b[39m create_tokenized_qa_pairs(test)\n\u001b[0;32m      3\u001b[0m test_qa_pairs\u001b[38;5;241m.\u001b[39mhead()\n\u001b[0;32m      4\u001b[0m tokenized_test_qa_pairs\u001b[38;5;241m.\u001b[39mhead()\n",
      "Cell \u001b[1;32mIn[158], line 11\u001b[0m, in \u001b[0;36mcreate_tokenized_qa_pairs\u001b[1;34m(df)\u001b[0m\n\u001b[0;32m      9\u001b[0m question \u001b[38;5;241m=\u001b[39m df\u001b[38;5;241m.\u001b[39miloc[i,\u001b[38;5;241m1\u001b[39m] \u001b[38;5;66;03m#grabs the question associated with the ith row of data\u001b[39;00m\n\u001b[0;32m     10\u001b[0m possible_answer \u001b[38;5;241m=\u001b[39m df\u001b[38;5;241m.\u001b[39miloc[i,j] \u001b[38;5;66;03m#grabs the jth answer choice in the ith column\u001b[39;00m\n\u001b[1;32m---> 11\u001b[0m new_row\u001b[38;5;241m=\u001b[39m [tokenizer(question),tokenizer(possible_answer)]\n\u001b[0;32m     12\u001b[0m tokenized_qa_pairs\u001b[38;5;241m.\u001b[39mloc[\u001b[38;5;28mlen\u001b[39m(qa_pairs)] \u001b[38;5;241m=\u001b[39m new_row\n\u001b[0;32m     13\u001b[0m j\u001b[38;5;241m+\u001b[39m\u001b[38;5;241m=\u001b[39m\u001b[38;5;241m1\u001b[39m\n",
      "\u001b[1;31mTypeError\u001b[0m: 'BertTokenizer' object is not callable"
     ]
    }
   ],
   "source": [
    "test_qa_pairs = create_qa_pairs(test)\n",
    "tokenized_test_qa_pairs = create_tokenized_qa_pairs(test)\n",
    "test_qa_pairs.head()\n",
    "tokenized_test_qa_pairs.head()"
   ]
  },
  {
   "cell_type": "code",
   "execution_count": null,
   "id": "960d855f",
   "metadata": {},
   "outputs": [],
   "source": []
  }
 ],
 "metadata": {
  "kernelspec": {
   "display_name": "Python 3 (ipykernel)",
   "language": "python",
   "name": "python3"
  },
  "language_info": {
   "codemirror_mode": {
    "name": "ipython",
    "version": 3
   },
   "file_extension": ".py",
   "mimetype": "text/x-python",
   "name": "python",
   "nbconvert_exporter": "python",
   "pygments_lexer": "ipython3",
   "version": "3.11.4"
  }
 },
 "nbformat": 4,
 "nbformat_minor": 5
}
